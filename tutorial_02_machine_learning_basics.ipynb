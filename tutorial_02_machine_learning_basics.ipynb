{
 "cells": [
  {
   "cell_type": "markdown",
   "metadata": {},
   "source": [
    "<div class='bar_title'></div>\n",
    "\n",
    "*Enterprise AI*\n",
    "\n",
    "# Tutorial 2 - Introduction to Machine Learning\n",
    "\n",
    "Gunther Gust / Viet Nguyen<br>\n",
    "Chair of Enterprise AI\n",
    "\n",
    "Summer Semester 25\n",
    "\n",
    "<img src=\"https://github.com/GuntherGust/tds2_data/blob/main/images/d3.png?raw=true\" style=\"width:20%; float:left;\" />"
   ]
  },
  {
   "cell_type": "markdown",
   "metadata": {},
   "source": [
    "In this tutorial, we introduce you to the basics of machine learning through hands-on programming exercises. This tutorial is designed as a practical refresher of the content in the course \"Practical Data Science\" from the last winter semester. While it may seem challenging for newcomers who have never programmed, you will gradually become comfortable with the concepts through practice. To support your learning, we have also provided free courses on DataCamp that cover both the basics and more advanced topics in Python programming. \n",
    "\n",
    "The tutorial includes:\n",
    "- Data preprocessing: how to clean up and prepare data as input for the machine learning models\n",
    "- Model development and evaluation: building simple machine learning models and evaluating their performance on a particular task\n",
    "  "
   ]
  },
  {
   "cell_type": "markdown",
   "metadata": {},
   "source": [
    "## 1. Data Preprocessing"
   ]
  },
  {
   "cell_type": "markdown",
   "metadata": {},
   "source": [
    "Before we can build any machine learning model, it is crucial to prepare the data properly. Raw data is often messy, incomplete, or not in the ideal format for modeling. Data preprocessing ensures that the data is clean, well-structured, and suitable for feeding into machine learning algorithms. Skipping or poorly executing this step can lead to inaccurate or misleading models. In this section, we will:\n",
    "\n",
    "- Load and explore the dataset using the pandas library.\n",
    "- Separate the dataset into features (input variables) and the target variable (what we want to predict).\n",
    "- Split the data into training and testing sets for model evaluation.\n",
    "\n",
    "You can read further on the topic [here](https://www.v7labs.com/blog/data-preprocessing-guide). We will go into the basics in the next cells."
   ]
  },
  {
   "cell_type": "markdown",
   "metadata": {},
   "source": [
    "### Importing required libraries"
   ]
  },
  {
   "cell_type": "markdown",
   "metadata": {},
   "source": [
    "To begin with, we import the `pandas` package, which is a powerful and widely used Python library for data manipulation and analysis."
   ]
  },
  {
   "cell_type": "code",
   "execution_count": 1,
   "metadata": {},
   "outputs": [],
   "source": [
    "import pandas as pd"
   ]
  },
  {
   "cell_type": "markdown",
   "metadata": {},
   "source": [
    "Here, `as pd` is an alias, just a shorthand, so we can refer to the package using `pd` throughout the code instead of typing pandas every time."
   ]
  },
  {
   "cell_type": "markdown",
   "metadata": {},
   "source": [
    "In this tutorial, we will be working with the housing dataset, which is hosted on our GitHub repository. To load this dataset into a pandas `DataFrame`, we will use the `pd.read_csv()` function. If the dataset is stored locally, you can provide the relative or absolute path to the csv file. For example, if the file is in the current directory, you can use the following command:\n",
    "```python\n",
    "housing_data = pd.read_csv(\"./path/to/folder/housing.csv\")\n",
    "```\n",
    "The `./` represents the current directory, and you can replace `\"./path/to/folder/housing.csv\"` with the actual path where your CSV file is stored.\n",
    "\n",
    "We will use an online dataset, and the command to load the dataset from GitHub would look like this:"
   ]
  },
  {
   "cell_type": "code",
   "execution_count": 2,
   "metadata": {
    "nbgrader": {
     "grade": true,
     "grade_id": "cell-4c1cb5bcd80a3f2a",
     "locked": true,
     "points": 2,
     "schema_version": 3,
     "solution": false,
     "task": false
    }
   },
   "outputs": [],
   "source": [
    "housing_data = pd.read_csv(\"https://raw.githubusercontent.com/GuntherGust/tds2_data/refs/heads/main/data/housing.csv\")"
   ]
  },
  {
   "cell_type": "markdown",
   "metadata": {},
   "source": [
    "Here, you create a variable `housing_data` that stores the data from reading the csv file `housing.csv`. You can think of this `housing_data` as an object, specifically a `DataFrame`, which is a type of object provided by the pandas library. A `DataFrame` is kind of like an Excel spreadsheet or a table in a database: it has rows (each one representing a house, in this case) and columns (each column represents a feature of the house, like area, number of bedrooms, etc.). Once we have this object (housing_data), we can use many built-in functions that pandas provides. One very commonly used function is `head()`:"
   ]
  },
  {
   "cell_type": "code",
   "execution_count": 3,
   "metadata": {},
   "outputs": [
    {
     "data": {
      "text/html": [
       "<div>\n",
       "<style scoped>\n",
       "    .dataframe tbody tr th:only-of-type {\n",
       "        vertical-align: middle;\n",
       "    }\n",
       "\n",
       "    .dataframe tbody tr th {\n",
       "        vertical-align: top;\n",
       "    }\n",
       "\n",
       "    .dataframe thead th {\n",
       "        text-align: right;\n",
       "    }\n",
       "</style>\n",
       "<table border=\"1\" class=\"dataframe\">\n",
       "  <thead>\n",
       "    <tr style=\"text-align: right;\">\n",
       "      <th></th>\n",
       "      <th>price</th>\n",
       "      <th>area</th>\n",
       "      <th>bedrooms</th>\n",
       "      <th>bathrooms</th>\n",
       "      <th>stories</th>\n",
       "      <th>mainroad</th>\n",
       "      <th>guestroom</th>\n",
       "      <th>basement</th>\n",
       "      <th>hotwaterheating</th>\n",
       "      <th>airconditioning</th>\n",
       "      <th>parking</th>\n",
       "      <th>prefarea</th>\n",
       "      <th>furnishingstatus</th>\n",
       "    </tr>\n",
       "  </thead>\n",
       "  <tbody>\n",
       "    <tr>\n",
       "      <th>0</th>\n",
       "      <td>13300000</td>\n",
       "      <td>7420.0</td>\n",
       "      <td>4</td>\n",
       "      <td>2</td>\n",
       "      <td>3</td>\n",
       "      <td>yes</td>\n",
       "      <td>no</td>\n",
       "      <td>no</td>\n",
       "      <td>no</td>\n",
       "      <td>yes</td>\n",
       "      <td>2</td>\n",
       "      <td>yes</td>\n",
       "      <td>furnished</td>\n",
       "    </tr>\n",
       "    <tr>\n",
       "      <th>1</th>\n",
       "      <td>12250000</td>\n",
       "      <td>8960.0</td>\n",
       "      <td>4</td>\n",
       "      <td>4</td>\n",
       "      <td>4</td>\n",
       "      <td>yes</td>\n",
       "      <td>no</td>\n",
       "      <td>no</td>\n",
       "      <td>no</td>\n",
       "      <td>yes</td>\n",
       "      <td>3</td>\n",
       "      <td>no</td>\n",
       "      <td>furnished</td>\n",
       "    </tr>\n",
       "    <tr>\n",
       "      <th>2</th>\n",
       "      <td>12250000</td>\n",
       "      <td>9960.0</td>\n",
       "      <td>3</td>\n",
       "      <td>2</td>\n",
       "      <td>2</td>\n",
       "      <td>yes</td>\n",
       "      <td>no</td>\n",
       "      <td>yes</td>\n",
       "      <td>no</td>\n",
       "      <td>no</td>\n",
       "      <td>2</td>\n",
       "      <td>yes</td>\n",
       "      <td>semi-furnished</td>\n",
       "    </tr>\n",
       "    <tr>\n",
       "      <th>3</th>\n",
       "      <td>12215000</td>\n",
       "      <td>7500.0</td>\n",
       "      <td>4</td>\n",
       "      <td>2</td>\n",
       "      <td>2</td>\n",
       "      <td>yes</td>\n",
       "      <td>no</td>\n",
       "      <td>yes</td>\n",
       "      <td>no</td>\n",
       "      <td>yes</td>\n",
       "      <td>3</td>\n",
       "      <td>yes</td>\n",
       "      <td>furnished</td>\n",
       "    </tr>\n",
       "    <tr>\n",
       "      <th>4</th>\n",
       "      <td>11410000</td>\n",
       "      <td>7420.0</td>\n",
       "      <td>4</td>\n",
       "      <td>1</td>\n",
       "      <td>2</td>\n",
       "      <td>yes</td>\n",
       "      <td>yes</td>\n",
       "      <td>yes</td>\n",
       "      <td>no</td>\n",
       "      <td>yes</td>\n",
       "      <td>2</td>\n",
       "      <td>no</td>\n",
       "      <td>furnished</td>\n",
       "    </tr>\n",
       "  </tbody>\n",
       "</table>\n",
       "</div>"
      ],
      "text/plain": [
       "      price    area  bedrooms  bathrooms  stories mainroad guestroom basement  \\\n",
       "0  13300000  7420.0         4          2        3      yes        no       no   \n",
       "1  12250000  8960.0         4          4        4      yes        no       no   \n",
       "2  12250000  9960.0         3          2        2      yes        no      yes   \n",
       "3  12215000  7500.0         4          2        2      yes        no      yes   \n",
       "4  11410000  7420.0         4          1        2      yes       yes      yes   \n",
       "\n",
       "  hotwaterheating airconditioning  parking prefarea furnishingstatus  \n",
       "0              no             yes        2      yes        furnished  \n",
       "1              no             yes        3       no        furnished  \n",
       "2              no              no        2      yes   semi-furnished  \n",
       "3              no             yes        3      yes        furnished  \n",
       "4              no             yes        2       no        furnished  "
      ]
     },
     "execution_count": 3,
     "metadata": {},
     "output_type": "execute_result"
    }
   ],
   "source": [
    "# Here is a \"comment\" of a code cell. It will not be executed, but only to provide additional information about your written code\n",
    "# Show the first 5 rows\n",
    "housing_data.head()"
   ]
  },
  {
   "cell_type": "markdown",
   "metadata": {},
   "source": [
    "This function shows the first 5 rows of the data. It helps give us a quick overview of what the dataset looks like — how many columns there are, what kind of values are inside, and whether it loaded correctly. This is very helpful when you're starting to explore a dataset, especially if you've never seen it before. Similarly, you can compute the overall statistics of your dataset using `describe()`:"
   ]
  },
  {
   "cell_type": "code",
   "execution_count": 4,
   "metadata": {},
   "outputs": [
    {
     "data": {
      "text/html": [
       "<div>\n",
       "<style scoped>\n",
       "    .dataframe tbody tr th:only-of-type {\n",
       "        vertical-align: middle;\n",
       "    }\n",
       "\n",
       "    .dataframe tbody tr th {\n",
       "        vertical-align: top;\n",
       "    }\n",
       "\n",
       "    .dataframe thead th {\n",
       "        text-align: right;\n",
       "    }\n",
       "</style>\n",
       "<table border=\"1\" class=\"dataframe\">\n",
       "  <thead>\n",
       "    <tr style=\"text-align: right;\">\n",
       "      <th></th>\n",
       "      <th>price</th>\n",
       "      <th>area</th>\n",
       "      <th>bedrooms</th>\n",
       "      <th>bathrooms</th>\n",
       "      <th>stories</th>\n",
       "      <th>parking</th>\n",
       "    </tr>\n",
       "  </thead>\n",
       "  <tbody>\n",
       "    <tr>\n",
       "      <th>count</th>\n",
       "      <td>5.450000e+02</td>\n",
       "      <td>504.000000</td>\n",
       "      <td>545.000000</td>\n",
       "      <td>545.000000</td>\n",
       "      <td>545.000000</td>\n",
       "      <td>545.000000</td>\n",
       "    </tr>\n",
       "    <tr>\n",
       "      <th>mean</th>\n",
       "      <td>4.766729e+06</td>\n",
       "      <td>5209.317460</td>\n",
       "      <td>2.965138</td>\n",
       "      <td>1.286239</td>\n",
       "      <td>1.805505</td>\n",
       "      <td>0.693578</td>\n",
       "    </tr>\n",
       "    <tr>\n",
       "      <th>std</th>\n",
       "      <td>1.870440e+06</td>\n",
       "      <td>2188.828118</td>\n",
       "      <td>0.738064</td>\n",
       "      <td>0.502470</td>\n",
       "      <td>0.867492</td>\n",
       "      <td>0.861586</td>\n",
       "    </tr>\n",
       "    <tr>\n",
       "      <th>min</th>\n",
       "      <td>1.750000e+06</td>\n",
       "      <td>1700.000000</td>\n",
       "      <td>1.000000</td>\n",
       "      <td>1.000000</td>\n",
       "      <td>1.000000</td>\n",
       "      <td>0.000000</td>\n",
       "    </tr>\n",
       "    <tr>\n",
       "      <th>25%</th>\n",
       "      <td>3.430000e+06</td>\n",
       "      <td>3600.000000</td>\n",
       "      <td>2.000000</td>\n",
       "      <td>1.000000</td>\n",
       "      <td>1.000000</td>\n",
       "      <td>0.000000</td>\n",
       "    </tr>\n",
       "    <tr>\n",
       "      <th>50%</th>\n",
       "      <td>4.340000e+06</td>\n",
       "      <td>4636.000000</td>\n",
       "      <td>3.000000</td>\n",
       "      <td>1.000000</td>\n",
       "      <td>2.000000</td>\n",
       "      <td>0.000000</td>\n",
       "    </tr>\n",
       "    <tr>\n",
       "      <th>75%</th>\n",
       "      <td>5.740000e+06</td>\n",
       "      <td>6420.000000</td>\n",
       "      <td>3.000000</td>\n",
       "      <td>2.000000</td>\n",
       "      <td>2.000000</td>\n",
       "      <td>1.000000</td>\n",
       "    </tr>\n",
       "    <tr>\n",
       "      <th>max</th>\n",
       "      <td>1.330000e+07</td>\n",
       "      <td>16200.000000</td>\n",
       "      <td>6.000000</td>\n",
       "      <td>4.000000</td>\n",
       "      <td>4.000000</td>\n",
       "      <td>3.000000</td>\n",
       "    </tr>\n",
       "  </tbody>\n",
       "</table>\n",
       "</div>"
      ],
      "text/plain": [
       "              price          area    bedrooms   bathrooms     stories  \\\n",
       "count  5.450000e+02    504.000000  545.000000  545.000000  545.000000   \n",
       "mean   4.766729e+06   5209.317460    2.965138    1.286239    1.805505   \n",
       "std    1.870440e+06   2188.828118    0.738064    0.502470    0.867492   \n",
       "min    1.750000e+06   1700.000000    1.000000    1.000000    1.000000   \n",
       "25%    3.430000e+06   3600.000000    2.000000    1.000000    1.000000   \n",
       "50%    4.340000e+06   4636.000000    3.000000    1.000000    2.000000   \n",
       "75%    5.740000e+06   6420.000000    3.000000    2.000000    2.000000   \n",
       "max    1.330000e+07  16200.000000    6.000000    4.000000    4.000000   \n",
       "\n",
       "          parking  \n",
       "count  545.000000  \n",
       "mean     0.693578  \n",
       "std      0.861586  \n",
       "min      0.000000  \n",
       "25%      0.000000  \n",
       "50%      0.000000  \n",
       "75%      1.000000  \n",
       "max      3.000000  "
      ]
     },
     "execution_count": 4,
     "metadata": {},
     "output_type": "execute_result"
    }
   ],
   "source": [
    "housing_data.describe()"
   ]
  },
  {
   "cell_type": "markdown",
   "metadata": {},
   "source": [
    "## 2. Data Sampling\n",
    "Now that we've had a first look at our dataset, it's time to prepare it for modeling. Before we build any machine learning model, we need to test how well it performs on new, unseen data. To do this properly, we split our data into two parts:\n",
    "- `Training set`: the portion of the data we’ll use to train (or \"teach\") our model.\n",
    "- `Testing set`: a separate portion we’ll use later to test how well the model works on data it hasn’t seen before.\n",
    "\n",
    "Think of it like studying for an exam: you learn from a textbook (training set), and later you’re tested with different questions (testing set) to see how well you understood the material. This idea of separating training from testing is called *data sampling*."
   ]
  },
  {
   "cell_type": "markdown",
   "metadata": {},
   "source": [
    "### Splitting features and Targets"
   ]
  },
  {
   "cell_type": "markdown",
   "metadata": {},
   "source": [
    "Let’s now split the dataset into two parts:\n",
    "\n",
    "- Features (inputs we use to make predictions): all the columns except the house price.\n",
    "- Target (what we want to predict): in our case, it's the price column — the house price.\n",
    "\n",
    "We can do this with the following commands:"
   ]
  },
  {
   "cell_type": "code",
   "execution_count": 5,
   "metadata": {
    "nbgrader": {
     "grade": true,
     "grade_id": "cell-01fcf28299a9a4f5",
     "locked": true,
     "points": 3,
     "schema_version": 3,
     "solution": false,
     "task": false
    }
   },
   "outputs": [],
   "source": [
    "Y = housing_data[\"price\"] # Extract the price column from the dataFrame\n",
    "X = housing_data.drop(\"price\",axis=1) # Extract the remaining columns from the dataFrame"
   ]
  },
  {
   "cell_type": "markdown",
   "metadata": {},
   "source": [
    "Here’s what’s happening:\n",
    "- `housing_data[\"price\"]` grabs just the \"price\" column as a Series (a single column).\n",
    "- `housing_data.drop(\"price\", axis=1)` removes the price column and returns all the other columns in a new `DataFrame`. Here, `axis` indicates which dimension of the data frame we want to drop. Since this is 2-dimensional, `axis=1` means dropping the column \"price\". You will encounter more complicated examples in the future where dimensions can be larger than 2. "
   ]
  },
  {
   "cell_type": "markdown",
   "metadata": {},
   "source": [
    "### Train-Test Split"
   ]
  },
  {
   "cell_type": "markdown",
   "metadata": {},
   "source": [
    "Now we’ll use a function from the `scikit-learn` library called `train_test_split`. This function takes our features (X) and target (Y) and splits them into four parts:\n",
    "- `X_train` and `Y_train`: data for training the model.\n",
    "- `X_test` and `Y_test`: data we save for testing the model later."
   ]
  },
  {
   "cell_type": "markdown",
   "metadata": {},
   "source": [
    "We also need to tell the function what percentage of data we want to keep for testing. A common choice is `20%` for testing and `80%` for training. Additionally, we set a `random_state` to make sure we get the same split every time we run the code:"
   ]
  },
  {
   "cell_type": "code",
   "execution_count": 6,
   "metadata": {
    "nbgrader": {
     "grade": true,
     "grade_id": "cell-69d704a19b119c96",
     "locked": true,
     "points": 5,
     "schema_version": 3,
     "solution": false,
     "task": false
    }
   },
   "outputs": [],
   "source": [
    "from sklearn.model_selection import train_test_split\n",
    "random_state = 0\n",
    "test_size = 0.2\n",
    "X_train, X_test, Y_train, Y_test = train_test_split(X,Y,test_size=test_size, random_state=random_state)"
   ]
  },
  {
   "cell_type": "markdown",
   "metadata": {},
   "source": [
    "When you run train_test_split, it might randomly divide the data into:\n",
    "1. Training data: `X_train` (features) and `Y_train` (target):\n",
    "- `X_train`: Includes columns like Area and Bedrooms for training.\n",
    "- `Y_train`: Includes the prices corresponding to those entries.\n",
    "2. Test data: `X_test` (features) and `Y_test` (target):\n",
    "- `X_test`: A smaller set of features that the model has never seen.\n",
    "- `Y_test`: The corresponding prices for those test entries.\n",
    "\n",
    "Broad analogy: To make sure the model is truly learning and not just memorizing the training data (which is known as [overfitting](https://en.wikipedia.org/wiki/Overfitting)), think of it like a student preparing for a test. If the student only practices with the exact same questions they’ll see on the exam, they might memorize the answers instead of actually learning the material. But if the student practices with different questions and then takes an exam with new questions (the test set), they’ll be tested on their ability to apply what they’ve learned, not just recall memorized answers. In the same way, we use the test data to ensure that our model can generalize, which means it can make accurate predictions on new, unseen data, rather than simply memorizing the training data.\n",
    "\n",
    "In addition, the `random_state` is very important: if someone else runs your code, even on a different machine, they will get the exact same train/test split, assuming the data and environment are the same."
   ]
  },
  {
   "cell_type": "markdown",
   "metadata": {},
   "source": [
    "## 3. Data Inspection\n",
    "Now that we've split our data, it's time to get to know it better. From this point forward, we'll only work with our training dataset (`X_train`). This is important because we want to avoid accidentally peeking at the test data during training, which could bias our model and give us a false sense of its performance. Let's repeat the step of reading the first few rows of the training data:"
   ]
  },
  {
   "cell_type": "code",
   "execution_count": 7,
   "metadata": {
    "nbgrader": {
     "grade": true,
     "grade_id": "cell-da52e8b83467c09c",
     "locked": true,
     "points": 5,
     "schema_version": 3,
     "solution": false,
     "task": false
    }
   },
   "outputs": [
    {
     "data": {
      "text/html": [
       "<div>\n",
       "<style scoped>\n",
       "    .dataframe tbody tr th:only-of-type {\n",
       "        vertical-align: middle;\n",
       "    }\n",
       "\n",
       "    .dataframe tbody tr th {\n",
       "        vertical-align: top;\n",
       "    }\n",
       "\n",
       "    .dataframe thead th {\n",
       "        text-align: right;\n",
       "    }\n",
       "</style>\n",
       "<table border=\"1\" class=\"dataframe\">\n",
       "  <thead>\n",
       "    <tr style=\"text-align: right;\">\n",
       "      <th></th>\n",
       "      <th>area</th>\n",
       "      <th>bedrooms</th>\n",
       "      <th>bathrooms</th>\n",
       "      <th>stories</th>\n",
       "      <th>mainroad</th>\n",
       "      <th>guestroom</th>\n",
       "      <th>basement</th>\n",
       "      <th>hotwaterheating</th>\n",
       "      <th>airconditioning</th>\n",
       "      <th>parking</th>\n",
       "      <th>prefarea</th>\n",
       "      <th>furnishingstatus</th>\n",
       "    </tr>\n",
       "  </thead>\n",
       "  <tbody>\n",
       "    <tr>\n",
       "      <th>542</th>\n",
       "      <td>3620.0</td>\n",
       "      <td>2</td>\n",
       "      <td>1</td>\n",
       "      <td>1</td>\n",
       "      <td>yes</td>\n",
       "      <td>no</td>\n",
       "      <td>no</td>\n",
       "      <td>no</td>\n",
       "      <td>no</td>\n",
       "      <td>0</td>\n",
       "      <td>no</td>\n",
       "      <td>unfurnished</td>\n",
       "    </tr>\n",
       "    <tr>\n",
       "      <th>496</th>\n",
       "      <td>4000.0</td>\n",
       "      <td>2</td>\n",
       "      <td>1</td>\n",
       "      <td>1</td>\n",
       "      <td>yes</td>\n",
       "      <td>no</td>\n",
       "      <td>no</td>\n",
       "      <td>no</td>\n",
       "      <td>no</td>\n",
       "      <td>0</td>\n",
       "      <td>no</td>\n",
       "      <td>unfurnished</td>\n",
       "    </tr>\n",
       "    <tr>\n",
       "      <th>484</th>\n",
       "      <td>3040.0</td>\n",
       "      <td>2</td>\n",
       "      <td>1</td>\n",
       "      <td>1</td>\n",
       "      <td>no</td>\n",
       "      <td>no</td>\n",
       "      <td>no</td>\n",
       "      <td>no</td>\n",
       "      <td>no</td>\n",
       "      <td>0</td>\n",
       "      <td>no</td>\n",
       "      <td>unfurnished</td>\n",
       "    </tr>\n",
       "    <tr>\n",
       "      <th>507</th>\n",
       "      <td>NaN</td>\n",
       "      <td>2</td>\n",
       "      <td>1</td>\n",
       "      <td>1</td>\n",
       "      <td>yes</td>\n",
       "      <td>no</td>\n",
       "      <td>no</td>\n",
       "      <td>no</td>\n",
       "      <td>no</td>\n",
       "      <td>0</td>\n",
       "      <td>no</td>\n",
       "      <td>unfurnished</td>\n",
       "    </tr>\n",
       "    <tr>\n",
       "      <th>252</th>\n",
       "      <td>9860.0</td>\n",
       "      <td>3</td>\n",
       "      <td>1</td>\n",
       "      <td>1</td>\n",
       "      <td>yes</td>\n",
       "      <td>no</td>\n",
       "      <td>no</td>\n",
       "      <td>no</td>\n",
       "      <td>no</td>\n",
       "      <td>0</td>\n",
       "      <td>no</td>\n",
       "      <td>semi-furnished</td>\n",
       "    </tr>\n",
       "    <tr>\n",
       "      <th>263</th>\n",
       "      <td>3968.0</td>\n",
       "      <td>3</td>\n",
       "      <td>1</td>\n",
       "      <td>2</td>\n",
       "      <td>no</td>\n",
       "      <td>no</td>\n",
       "      <td>no</td>\n",
       "      <td>no</td>\n",
       "      <td>no</td>\n",
       "      <td>0</td>\n",
       "      <td>no</td>\n",
       "      <td>semi-furnished</td>\n",
       "    </tr>\n",
       "    <tr>\n",
       "      <th>240</th>\n",
       "      <td>3840.0</td>\n",
       "      <td>3</td>\n",
       "      <td>1</td>\n",
       "      <td>2</td>\n",
       "      <td>yes</td>\n",
       "      <td>no</td>\n",
       "      <td>no</td>\n",
       "      <td>no</td>\n",
       "      <td>no</td>\n",
       "      <td>1</td>\n",
       "      <td>yes</td>\n",
       "      <td>NaN</td>\n",
       "    </tr>\n",
       "  </tbody>\n",
       "</table>\n",
       "</div>"
      ],
      "text/plain": [
       "       area  bedrooms  bathrooms  stories mainroad guestroom basement  \\\n",
       "542  3620.0         2          1        1      yes        no       no   \n",
       "496  4000.0         2          1        1      yes        no       no   \n",
       "484  3040.0         2          1        1       no        no       no   \n",
       "507     NaN         2          1        1      yes        no       no   \n",
       "252  9860.0         3          1        1      yes        no       no   \n",
       "263  3968.0         3          1        2       no        no       no   \n",
       "240  3840.0         3          1        2      yes        no       no   \n",
       "\n",
       "    hotwaterheating airconditioning  parking prefarea furnishingstatus  \n",
       "542              no              no        0       no      unfurnished  \n",
       "496              no              no        0       no      unfurnished  \n",
       "484              no              no        0       no      unfurnished  \n",
       "507              no              no        0       no      unfurnished  \n",
       "252              no              no        0       no   semi-furnished  \n",
       "263              no              no        0       no   semi-furnished  \n",
       "240              no              no        1      yes              NaN  "
      ]
     },
     "execution_count": 7,
     "metadata": {},
     "output_type": "execute_result"
    }
   ],
   "source": [
    "# Show the first five rows of the X_train dataFrame\n",
    "X_train.head(n=7)"
   ]
  },
  {
   "cell_type": "markdown",
   "metadata": {},
   "source": [
    "The function `head()` has an optional input parameter `n`, which indicates how many rows you want to display. By default, `n=5` if you don't specify it. When you program, a useful function could be `help()`, where you can see a full descriptions of a function, including the input parameters and the expected output."
   ]
  },
  {
   "cell_type": "code",
   "execution_count": 8,
   "metadata": {},
   "outputs": [
    {
     "name": "stdout",
     "output_type": "stream",
     "text": [
      "Help on method head in module pandas.core.generic:\n",
      "\n",
      "head(n: 'int' = 5) -> 'Self' method of pandas.core.frame.DataFrame instance\n",
      "    Return the first `n` rows.\n",
      "    \n",
      "    This function returns the first `n` rows for the object based\n",
      "    on position. It is useful for quickly testing if your object\n",
      "    has the right type of data in it.\n",
      "    \n",
      "    For negative values of `n`, this function returns all rows except\n",
      "    the last `|n|` rows, equivalent to ``df[:n]``.\n",
      "    \n",
      "    If n is larger than the number of rows, this function returns all rows.\n",
      "    \n",
      "    Parameters\n",
      "    ----------\n",
      "    n : int, default 5\n",
      "        Number of rows to select.\n",
      "    \n",
      "    Returns\n",
      "    -------\n",
      "    same type as caller\n",
      "        The first `n` rows of the caller object.\n",
      "    \n",
      "    See Also\n",
      "    --------\n",
      "    DataFrame.tail: Returns the last `n` rows.\n",
      "    \n",
      "    Examples\n",
      "    --------\n",
      "    >>> df = pd.DataFrame({'animal': ['alligator', 'bee', 'falcon', 'lion',\n",
      "    ...                    'monkey', 'parrot', 'shark', 'whale', 'zebra']})\n",
      "    >>> df\n",
      "          animal\n",
      "    0  alligator\n",
      "    1        bee\n",
      "    2     falcon\n",
      "    3       lion\n",
      "    4     monkey\n",
      "    5     parrot\n",
      "    6      shark\n",
      "    7      whale\n",
      "    8      zebra\n",
      "    \n",
      "    Viewing the first 5 lines\n",
      "    \n",
      "    >>> df.head()\n",
      "          animal\n",
      "    0  alligator\n",
      "    1        bee\n",
      "    2     falcon\n",
      "    3       lion\n",
      "    4     monkey\n",
      "    \n",
      "    Viewing the first `n` lines (three in this case)\n",
      "    \n",
      "    >>> df.head(3)\n",
      "          animal\n",
      "    0  alligator\n",
      "    1        bee\n",
      "    2     falcon\n",
      "    \n",
      "    For negative values of `n`\n",
      "    \n",
      "    >>> df.head(-3)\n",
      "          animal\n",
      "    0  alligator\n",
      "    1        bee\n",
      "    2     falcon\n",
      "    3       lion\n",
      "    4     monkey\n",
      "    5     parrot\n",
      "\n"
     ]
    }
   ],
   "source": [
    "# Please run this cell\n",
    "help(X_train.head)"
   ]
  },
  {
   "cell_type": "markdown",
   "metadata": {},
   "source": [
    "Next, let’s check the shape of our dataset — how many rows and columns it has:"
   ]
  },
  {
   "cell_type": "code",
   "execution_count": 9,
   "metadata": {
    "nbgrader": {
     "grade": true,
     "grade_id": "cell-5dc5adbf4aaf0f1c",
     "locked": true,
     "points": 2,
     "schema_version": 3,
     "solution": false,
     "task": false
    }
   },
   "outputs": [
    {
     "name": "stdout",
     "output_type": "stream",
     "text": [
      "(436, 12)\n"
     ]
    }
   ],
   "source": [
    "X_shape = X_train.shape\n",
    "print(X_shape)"
   ]
  },
  {
   "cell_type": "markdown",
   "metadata": {},
   "source": [
    "When you run `X_train.shape` by itself in a code cell, Python will immediately display the result, which tells you how many rows and columns your dataset has:\n",
    "```python\n",
    "X_train.shape\n",
    "```\n",
    "But sometimes, especially when you're writing longer programs, you don’t want Python to just automatically show the result right away. Instead, you might want to save the result somewhere first. In this case, we save it in a variable called `X_shape`. Now the result is stored in this variable, like putting something into a labeled box. If you now want to see what's inside that box, you can use the `print()` function:\n",
    "```python\n",
    "# store shape into X_shape \n",
    "X_shape = X_train.shape\n",
    "# display\n",
    "print(X_shape)\n",
    "```\n",
    "\n",
    "It works with almost anything: numbers, text, even entire tables. So by writing `print(X_shape)`, you're asking Python to display the shape of the training dataset on your terms."
   ]
  },
  {
   "cell_type": "markdown",
   "metadata": {},
   "source": [
    "Now, we’ll create a summary of the numeric data using the `.describe()` function:"
   ]
  },
  {
   "cell_type": "code",
   "execution_count": 10,
   "metadata": {},
   "outputs": [],
   "source": [
    "X_train_description = X_train.describe()"
   ]
  },
  {
   "cell_type": "markdown",
   "metadata": {},
   "source": [
    "This gives us useful stats like the mean, standard deviation, minimum, and maximum for each numerical feature. It’s like getting a quick health check-up for your data. Similarly, you can print out this variable:"
   ]
  },
  {
   "cell_type": "code",
   "execution_count": 11,
   "metadata": {},
   "outputs": [
    {
     "data": {
      "text/html": [
       "<div>\n",
       "<style scoped>\n",
       "    .dataframe tbody tr th:only-of-type {\n",
       "        vertical-align: middle;\n",
       "    }\n",
       "\n",
       "    .dataframe tbody tr th {\n",
       "        vertical-align: top;\n",
       "    }\n",
       "\n",
       "    .dataframe thead th {\n",
       "        text-align: right;\n",
       "    }\n",
       "</style>\n",
       "<table border=\"1\" class=\"dataframe\">\n",
       "  <thead>\n",
       "    <tr style=\"text-align: right;\">\n",
       "      <th></th>\n",
       "      <th>area</th>\n",
       "      <th>bedrooms</th>\n",
       "      <th>bathrooms</th>\n",
       "      <th>stories</th>\n",
       "      <th>parking</th>\n",
       "    </tr>\n",
       "  </thead>\n",
       "  <tbody>\n",
       "    <tr>\n",
       "      <th>count</th>\n",
       "      <td>8.000000</td>\n",
       "      <td>8.000000</td>\n",
       "      <td>8.000000</td>\n",
       "      <td>8.000000</td>\n",
       "      <td>8.000000</td>\n",
       "    </tr>\n",
       "    <tr>\n",
       "      <th>mean</th>\n",
       "      <td>5076.553961</td>\n",
       "      <td>56.838039</td>\n",
       "      <td>55.721056</td>\n",
       "      <td>56.085973</td>\n",
       "      <td>55.198773</td>\n",
       "    </tr>\n",
       "    <tr>\n",
       "      <th>std</th>\n",
       "      <td>4906.101354</td>\n",
       "      <td>153.213119</td>\n",
       "      <td>153.657870</td>\n",
       "      <td>153.511732</td>\n",
       "      <td>153.870094</td>\n",
       "    </tr>\n",
       "    <tr>\n",
       "      <th>min</th>\n",
       "      <td>412.000000</td>\n",
       "      <td>0.743303</td>\n",
       "      <td>0.488635</td>\n",
       "      <td>0.873560</td>\n",
       "      <td>0.000000</td>\n",
       "    </tr>\n",
       "    <tr>\n",
       "      <th>25%</th>\n",
       "      <td>2076.902651</td>\n",
       "      <td>1.750000</td>\n",
       "      <td>1.000000</td>\n",
       "      <td>1.000000</td>\n",
       "      <td>0.000000</td>\n",
       "    </tr>\n",
       "    <tr>\n",
       "      <th>50%</th>\n",
       "      <td>4195.000000</td>\n",
       "      <td>2.980505</td>\n",
       "      <td>1.139908</td>\n",
       "      <td>1.907110</td>\n",
       "      <td>0.795093</td>\n",
       "    </tr>\n",
       "    <tr>\n",
       "      <th>75%</th>\n",
       "      <td>5510.421117</td>\n",
       "      <td>3.750000</td>\n",
       "      <td>2.250000</td>\n",
       "      <td>2.500000</td>\n",
       "      <td>1.500000</td>\n",
       "    </tr>\n",
       "    <tr>\n",
       "      <th>max</th>\n",
       "      <td>16200.000000</td>\n",
       "      <td>436.000000</td>\n",
       "      <td>436.000000</td>\n",
       "      <td>436.000000</td>\n",
       "      <td>436.000000</td>\n",
       "    </tr>\n",
       "  </tbody>\n",
       "</table>\n",
       "</div>"
      ],
      "text/plain": [
       "               area    bedrooms   bathrooms     stories     parking\n",
       "count      8.000000    8.000000    8.000000    8.000000    8.000000\n",
       "mean    5076.553961   56.838039   55.721056   56.085973   55.198773\n",
       "std     4906.101354  153.213119  153.657870  153.511732  153.870094\n",
       "min      412.000000    0.743303    0.488635    0.873560    0.000000\n",
       "25%     2076.902651    1.750000    1.000000    1.000000    0.000000\n",
       "50%     4195.000000    2.980505    1.139908    1.907110    0.795093\n",
       "75%     5510.421117    3.750000    2.250000    2.500000    1.500000\n",
       "max    16200.000000  436.000000  436.000000  436.000000  436.000000"
      ]
     },
     "execution_count": 11,
     "metadata": {},
     "output_type": "execute_result"
    }
   ],
   "source": [
    "X_train_description.describe()"
   ]
  },
  {
   "cell_type": "markdown",
   "metadata": {},
   "source": [
    "## 4. Handling Missing Values"
   ]
  },
  {
   "cell_type": "markdown",
   "metadata": {},
   "source": [
    "Real-world data often has gaps or missing values; maybe someone forgot to enter a value, or maybe the data wasn’t available. We can find these missing values using the `isna()` function. This function returns a data frame with boolean values, where `True` indicates that the value is missing and `False` indicates that the value is present. To count the number of missing values in each column, we can use the `sum()` function:"
   ]
  },
  {
   "cell_type": "code",
   "execution_count": 12,
   "metadata": {
    "nbgrader": {
     "grade": true,
     "grade_id": "cell-58f030a50b9812f7",
     "locked": true,
     "points": 2,
     "schema_version": 3,
     "solution": false,
     "task": false
    }
   },
   "outputs": [
    {
     "name": "stdout",
     "output_type": "stream",
     "text": [
      "area                24\n",
      "bedrooms             0\n",
      "bathrooms            0\n",
      "stories              0\n",
      "mainroad             0\n",
      "guestroom            0\n",
      "basement             0\n",
      "hotwaterheating      0\n",
      "airconditioning      0\n",
      "parking              0\n",
      "prefarea             0\n",
      "furnishingstatus    29\n",
      "dtype: int64\n"
     ]
    }
   ],
   "source": [
    "missing_values = X_train.isna().sum()\n",
    "print(missing_values)"
   ]
  },
  {
   "cell_type": "markdown",
   "metadata": {},
   "source": [
    "Here, it shows there are 24 and 29 missing values in the `area` and `furnishingstatus` columns, respectively. Since most machine learning models can’t handle missing values directly, we need to fix this. We have two main options:\n",
    "1. Drop the rows with missing data (but this may lose important information).\n",
    "2. Impute the missing values, which means we fill in the blanks with a reasonable guess.\n",
    "\n",
    "For starting, we will use the [`SimpleImputer`](https://scikit-learn.org/stable/modules/impute.html#impute) tool from `Scikit-learn` to do this. In Python (and especially in libraries like scikit-learn), many tools come in the form of classes. A class is like a blueprint or recipe for creating objects that can perform certain tasks. Here, `SimpleImputer` is one such class. It comes from the `sklearn.impute` module and is used to fill in missing values in your dataset. "
   ]
  },
  {
   "cell_type": "code",
   "execution_count": 13,
   "metadata": {},
   "outputs": [],
   "source": [
    "from sklearn.impute import SimpleImputer"
   ]
  },
  {
   "cell_type": "markdown",
   "metadata": {},
   "source": [
    "Next, we will create our Imputer. To do this, we must hand over a strategy defining how the missing values are imputed. But what should we use to fill in the blank?\n",
    "### Numerical Data: Using Mean\n",
    "For numerical columns like area (e.g., 1200, 1500, 1800), we could use the mean. That is, the average of all existing values in that column, which is a good assumption in this case. This is a good strategy when your data is fairly balanced and doesn't have extreme outliers (very large or small numbers that could skew the average).\n",
    "\n",
    "### Categorical Data: Using the Most Frequent\n",
    "For categorical columns like `furnishingstatus` (e.g., \"furnished\", \"unfurnished\", \"semi-furnished\"), you can't take an average — they’re not numbers! Instead, we use the most frequent value, the category that appears most often in that column. This is a safe assumption when one category is more common than the others.\n",
    "\n",
    "We can use different strategies using the parameter `strategy` of the class `SimpleImputer`"
   ]
  },
  {
   "cell_type": "code",
   "execution_count": 14,
   "metadata": {
    "nbgrader": {
     "grade": true,
     "grade_id": "cell-fc9ef86c85129d84",
     "locked": true,
     "points": 2,
     "schema_version": 3,
     "solution": false,
     "task": false
    }
   },
   "outputs": [],
   "source": [
    "numerical_imputer = SimpleImputer(strategy='mean')\n",
    "categorical_imputer = SimpleImputer(strategy=\"most_frequent\")"
   ]
  },
  {
   "cell_type": "markdown",
   "metadata": {},
   "source": [
    "You are doing two things:\n",
    "1. Creating an object (e.g., called `numerical_imputer`) based on the `SimpleImputer` class\n",
    "2. Telling it how to behave by passing a parameter\n",
    "\n",
    "Once you have this object, it gives you functions (also called methods) that come from the class. The main ones we use are:\n",
    "1. `fit()`: this is like the object learning from your data (it figures out the mean or the most common value)\n",
    "2. `transform()`: this is like the object applying what it learned to fix the data\n",
    "3. `.fit_transform()`: this combines both steps: learn and apply, all at once\n",
    "\n",
    "Putting all together: The class gives you a tool. You configure it (with `strategy`), and then you use its functions (e.g., `fit_transform()`) to clean your data:"
   ]
  },
  {
   "cell_type": "code",
   "execution_count": 15,
   "metadata": {
    "nbgrader": {
     "grade": true,
     "grade_id": "cell-83887d556a406daa",
     "locked": true,
     "points": 2,
     "schema_version": 3,
     "solution": false,
     "task": false
    }
   },
   "outputs": [],
   "source": [
    "numeric_imputed_values = pd.DataFrame(numerical_imputer.fit_transform(X_train[[\"area\"]]),index=X_train.index, columns=[\"area\"])\n",
    "categorical_imputed_values = pd.DataFrame(categorical_imputer.fit_transform(X_train[[\"furnishingstatus\"]]),index=X_train.index, columns=[\"furnishingstatus\"])"
   ]
  },
  {
   "cell_type": "markdown",
   "metadata": {},
   "source": [
    "After we impute missing values using `fit_transform()`, the result we get is a `NumPy` array (please look at this more in the DataCamp courses). It's just the data without any column names or row labels. But our original data was a pandas DataFrame, which includes both:\n",
    "- `Columns`: named like `area` or `furnishingstatus`\n",
    "- `Index`: the row labels (usually numbers like 0, 1, 2, ..., but they can be dates or other labels too)\n",
    "\n",
    "When we write:\n",
    "```python\n",
    "pd.DataFrame(numpy_array, index=X_train.index, columns=[\"area\"])\n",
    "```\n",
    "\n",
    "We tell pandas to convert this `NumPy` array back into a `DataFrame`, and use the same row labels (index) as the original `X_train` so everything lines up correctly. This is important because later on, we may want to merge the imputed columns back into the full dataset. If the rows don’t match (e.g., are out of order or mislabeled), we could end up mixing data from different houses, which we definitely don't want."
   ]
  },
  {
   "cell_type": "markdown",
   "metadata": {},
   "source": [
    "Finally, we remove the original text columns and add the encoded columns to the dataset:"
   ]
  },
  {
   "cell_type": "code",
   "execution_count": 16,
   "metadata": {
    "nbgrader": {
     "grade": true,
     "grade_id": "cell-2984f5399c1f23ee",
     "locked": true,
     "points": 1,
     "schema_version": 3,
     "solution": false,
     "task": false
    }
   },
   "outputs": [],
   "source": [
    "X_train[\"area\"] = numeric_imputed_values\n",
    "X_train[\"furnishingstatus\"] = categorical_imputed_values"
   ]
  },
  {
   "cell_type": "markdown",
   "metadata": {},
   "source": [
    "You can check that there are no missing values left in these two columns:"
   ]
  },
  {
   "cell_type": "code",
   "execution_count": 17,
   "metadata": {},
   "outputs": [
    {
     "name": "stdout",
     "output_type": "stream",
     "text": [
      "area                0\n",
      "bedrooms            0\n",
      "bathrooms           0\n",
      "stories             0\n",
      "mainroad            0\n",
      "guestroom           0\n",
      "basement            0\n",
      "hotwaterheating     0\n",
      "airconditioning     0\n",
      "parking             0\n",
      "prefarea            0\n",
      "furnishingstatus    0\n",
      "dtype: int64\n"
     ]
    }
   ],
   "source": [
    "missing_values_after_imputation = X_train.isna().sum()\n",
    "print(missing_values_after_imputation)"
   ]
  },
  {
   "cell_type": "markdown",
   "metadata": {},
   "source": [
    "## 5. Scaling the Data\n",
    "Our next preprocessing step is to scale our data. Some machine learning models are sensitive to the scale of numerical data. For example, a model might treat “area in square feet” (which can be in thousands) very differently from “number of bedrooms” (which is a small number), just because of their different scales, not because area is more important.\n",
    "\n",
    "To fix this, we’ll use something called standardization, which means adjusting the values so they all have a similar scale (mean = 0, standard deviation = 1). Similar to imputation, we have [`StandardScaler`](https://scikit-learn.org/stable/modules/preprocessing.html#standardization-or-mean-removal-and-variance-scaling) as the candidate class for standardization purposes:"
   ]
  },
  {
   "cell_type": "code",
   "execution_count": 18,
   "metadata": {},
   "outputs": [],
   "source": [
    "from sklearn.preprocessing import StandardScaler\n",
    "scaler = StandardScaler()"
   ]
  },
  {
   "cell_type": "markdown",
   "metadata": {},
   "source": [
    "Before scaling, let’s identify the numeric and categorical columns:"
   ]
  },
  {
   "cell_type": "code",
   "execution_count": 19,
   "metadata": {},
   "outputs": [],
   "source": [
    "# Identify column types\n",
    "categorical_columns = X_train.select_dtypes(include=\"object\").columns\n",
    "numerical_columns = X_train.select_dtypes(exclude=\"object\").columns"
   ]
  },
  {
   "cell_type": "markdown",
   "metadata": {},
   "source": [
    "The `select_dtypes()` method in pandas is used to select columns of a specific data type from a `DataFrame`.\n",
    "We're using it to separate:\n",
    "- categorical columns (e.g., \"yes\", \"no\", \"furnished\", \"semi-furnished\")\n",
    "- numerical columns (e.g., area in square feet, number of bedrooms)\n",
    "  \n",
    "When a column contains text/string values, its data type is usually \"object\" (because strings are technically Python objects)."
   ]
  },
  {
   "cell_type": "code",
   "execution_count": 20,
   "metadata": {
    "nbgrader": {
     "grade": true,
     "grade_id": "cell-3351f43ac1161e13",
     "locked": true,
     "points": 2,
     "schema_version": 3,
     "solution": false,
     "task": false
    }
   },
   "outputs": [
    {
     "name": "stdout",
     "output_type": "stream",
     "text": [
      "Index(['mainroad', 'guestroom', 'basement', 'hotwaterheating',\n",
      "       'airconditioning', 'prefarea', 'furnishingstatus'],\n",
      "      dtype='object')\n",
      "Index(['area', 'bedrooms', 'bathrooms', 'stories', 'parking'], dtype='object')\n"
     ]
    }
   ],
   "source": [
    "print(categorical_columns)\n",
    "print(numerical_columns)"
   ]
  },
  {
   "cell_type": "markdown",
   "metadata": {},
   "source": [
    "The procedure is similar to imputation: "
   ]
  },
  {
   "cell_type": "code",
   "execution_count": 21,
   "metadata": {
    "nbgrader": {
     "grade": true,
     "grade_id": "cell-4509effdfc4a1779",
     "locked": true,
     "points": 2,
     "schema_version": 3,
     "solution": false,
     "task": false
    }
   },
   "outputs": [],
   "source": [
    "scaler = StandardScaler()\n",
    "# apply the scaler on the numerical columns of the X_train dataFrame and convert the result to a dataFrame\n",
    "scaled_values = pd.DataFrame(scaler.fit_transform(X_train[numerical_columns]),index=X_train.index,columns=numerical_columns)\n",
    "# replace the original numerical columns with scaled versions\n",
    "X_train[numerical_columns] = scaled_values"
   ]
  },
  {
   "cell_type": "markdown",
   "metadata": {},
   "source": [
    "This makes the numerical features more balanced and helps models perform better."
   ]
  },
  {
   "cell_type": "markdown",
   "metadata": {},
   "source": [
    "## 6. Handling Categorical Variables"
   ]
  },
  {
   "cell_type": "markdown",
   "metadata": {},
   "source": [
    "Most machine learning models can’t understand text labels like \"furnished\" or \"semi-furnished\". We need to convert these into numbers — but not just any numbers. We use [`One-Hot Encoding`](https://scikit-learn.org/stable/modules/preprocessing.html#encoding-categorical-features), which turns each category into a new column. Again, `OneHotEncoder` is the candidate class for this task:"
   ]
  },
  {
   "cell_type": "code",
   "execution_count": 22,
   "metadata": {},
   "outputs": [],
   "source": [
    "from sklearn.preprocessing import OneHotEncoder\n",
    "\n",
    "# same procedure as imputation and scaling data\n",
    "one_hot_encoder = OneHotEncoder(sparse_output=False)\n",
    "encoded_values =  pd.DataFrame(one_hot_encoder.fit_transform(X_train[categorical_columns]),index=X_train.index, columns=one_hot_encoder.get_feature_names_out())"
   ]
  },
  {
   "cell_type": "markdown",
   "metadata": {},
   "source": [
    "When we create our encoder, we need to set the parameter `sparse_output` to `False`. This will return a numpy array instead of a sparse matrix. A sparse matrix is a matrix (a grid of numbers) that contains mostly zeros. It saves memory by only storing the non-zero values, rather than storing all the zeroes too. This is useful in cases like `OneHotEncoding`, where we often end up with lots of columns, and many of them are zero. Please take a look at the documentation to understand the sparse matrix format better!"
   ]
  },
  {
   "cell_type": "markdown",
   "metadata": {},
   "source": [
    "Next, we bring the encoded data back to our data frame. Therefore, we first drop the categorical columns of the data frame using the `drop()` function:"
   ]
  },
  {
   "cell_type": "code",
   "execution_count": 23,
   "metadata": {
    "nbgrader": {
     "grade": true,
     "grade_id": "cell-fc40505b3c53d6d7",
     "locked": true,
     "points": 2,
     "schema_version": 3,
     "solution": false,
     "task": false
    }
   },
   "outputs": [],
   "source": [
    "X_train_no_cat =  X_train.drop(categorical_columns,axis=1)\n",
    "X_train_no_cat = pd.concat([X_train_no_cat, encoded_values],axis=1)"
   ]
  },
  {
   "cell_type": "markdown",
   "metadata": {},
   "source": [
    "This function allows us to remove specific columns by passing the `categorical_columns` list and setting `axis=1`, which tells pandas to drop columns (not rows). We do not use inplace=True here, although it would modify the original DataFrame directly; it’s generally clearer and safer to avoid this and instead assign the result to a new variable, so we keep control of our data and avoid unexpected changes.\n",
    "\n",
    "Finally, we concatenate the encoded data back into the `DataFrame` using `pd.concat()`. This function merges the original data (now without the categorical columns) and the encoded values side by side by setting `axis=1`, which combines them column-wise."
   ]
  },
  {
   "cell_type": "markdown",
   "metadata": {},
   "source": [
    "## 7. Model Training"
   ]
  },
  {
   "cell_type": "markdown",
   "metadata": {},
   "source": [
    "We have now preprocessed our data, and we’re ready to build our machine-learning model! In this case, we will use a [Random Forest Regressor](https://scikit-learn.org/stable/modules/generated/sklearn.ensemble.RandomForestRegressor.html). So, what is a random forest? Think of it as a group of decision trees. A decision tree is a model that predicts an outcome based on certain criteria. For example, it might predict the price of a house by asking questions like: “How many bedrooms does the house have?” or “What is the area?” The tree then branches out to a prediction. A Random Forest takes this idea further. It builds many decision trees and combines their predictions to make a final decision. Imagine a forest with many trees: each tree gives an opinion (a prediction), and the forest as a whole makes a better, more accurate decision by considering all of these opinions. This collective approach reduces the risk of overfitting, when a model becomes too focused on the training data and doesn't perform well on new, unseen data. For the sake of time, we won't cover the algorithm here, but only present the intuition. You are welcome to dive deeper into the model at home. You might be interested in the concepts of [supervised learning and unsupervised learning](https://www.ibm.com/think/topics/supervised-vs-unsupervised-learning) here. Intuitively:\n",
    "\n",
    "- **Supervised Learning**: A type of machine learning where the model is trained on labeled data, learning to predict the output (target) from input features.\n",
    "- **Unsupervised Learning**: A type of machine learning where the model works with unlabeled data, aiming to find hidden patterns or groupings within the data.\n",
    "\n",
    "Random Forest is a supervised learning algorithm because it learns from labeled data. Specifically, it’s a regression algorithm in this case, meaning it’s predicting a continuous value (like a price). Each individual decision tree in a random forest is trained on a subset of the data, and then the model makes predictions by averaging the results from all the decision trees. The procedure is as follows:\n",
    "\n",
    "1. **Training the Model**: The model learns from labeled training data, where it has both the features (e.g., number of bedrooms, area of the house) and the target (the actual house price).\n",
    "2. **Prediction**: After training, the model is able to make predictions on new data (test data), even though it hasn’t seen that data before. This is what makes the Random Forest a supervised learning method. It uses known labels during training to make accurate predictions.\n"
   ]
  },
  {
   "cell_type": "markdown",
   "metadata": {},
   "source": [
    "Now, let's first import the model:"
   ]
  },
  {
   "cell_type": "code",
   "execution_count": 24,
   "metadata": {},
   "outputs": [],
   "source": [
    "from sklearn.ensemble import RandomForestRegressor"
   ]
  },
  {
   "cell_type": "markdown",
   "metadata": {},
   "source": [
    "### Creating the Model\n",
    "\n",
    "We now create our RandomForestRegressor object. By setting `random_state=0`, we make sure that every time someone runs this code, they get the same results, which is important for reproducibility."
   ]
  },
  {
   "cell_type": "code",
   "execution_count": 25,
   "metadata": {
    "nbgrader": {
     "grade": true,
     "grade_id": "cell-88bc86dc8ff62aac",
     "locked": true,
     "points": 1,
     "schema_version": 3,
     "solution": false,
     "task": false
    }
   },
   "outputs": [],
   "source": [
    "model = RandomForestRegressor(random_state=0)"
   ]
  },
  {
   "cell_type": "markdown",
   "metadata": {},
   "source": [
    "This model is now ready for training. The next step is to “teach” it how to predict. This is done by calling the `fit()` function, where we pass in our training data (`X_train_no_cat` and `Y_train`). `X_train_no_cat `contains the features (like the number of bedrooms, area, etc.), and `Y_train` contains the target variable (the price of the house)."
   ]
  },
  {
   "cell_type": "code",
   "execution_count": 26,
   "metadata": {},
   "outputs": [
    {
     "data": {
      "text/html": [
       "<style>#sk-container-id-1 {\n",
       "  /* Definition of color scheme common for light and dark mode */\n",
       "  --sklearn-color-text: black;\n",
       "  --sklearn-color-line: gray;\n",
       "  /* Definition of color scheme for unfitted estimators */\n",
       "  --sklearn-color-unfitted-level-0: #fff5e6;\n",
       "  --sklearn-color-unfitted-level-1: #f6e4d2;\n",
       "  --sklearn-color-unfitted-level-2: #ffe0b3;\n",
       "  --sklearn-color-unfitted-level-3: chocolate;\n",
       "  /* Definition of color scheme for fitted estimators */\n",
       "  --sklearn-color-fitted-level-0: #f0f8ff;\n",
       "  --sklearn-color-fitted-level-1: #d4ebff;\n",
       "  --sklearn-color-fitted-level-2: #b3dbfd;\n",
       "  --sklearn-color-fitted-level-3: cornflowerblue;\n",
       "\n",
       "  /* Specific color for light theme */\n",
       "  --sklearn-color-text-on-default-background: var(--sg-text-color, var(--theme-code-foreground, var(--jp-content-font-color1, black)));\n",
       "  --sklearn-color-background: var(--sg-background-color, var(--theme-background, var(--jp-layout-color0, white)));\n",
       "  --sklearn-color-border-box: var(--sg-text-color, var(--theme-code-foreground, var(--jp-content-font-color1, black)));\n",
       "  --sklearn-color-icon: #696969;\n",
       "\n",
       "  @media (prefers-color-scheme: dark) {\n",
       "    /* Redefinition of color scheme for dark theme */\n",
       "    --sklearn-color-text-on-default-background: var(--sg-text-color, var(--theme-code-foreground, var(--jp-content-font-color1, white)));\n",
       "    --sklearn-color-background: var(--sg-background-color, var(--theme-background, var(--jp-layout-color0, #111)));\n",
       "    --sklearn-color-border-box: var(--sg-text-color, var(--theme-code-foreground, var(--jp-content-font-color1, white)));\n",
       "    --sklearn-color-icon: #878787;\n",
       "  }\n",
       "}\n",
       "\n",
       "#sk-container-id-1 {\n",
       "  color: var(--sklearn-color-text);\n",
       "}\n",
       "\n",
       "#sk-container-id-1 pre {\n",
       "  padding: 0;\n",
       "}\n",
       "\n",
       "#sk-container-id-1 input.sk-hidden--visually {\n",
       "  border: 0;\n",
       "  clip: rect(1px 1px 1px 1px);\n",
       "  clip: rect(1px, 1px, 1px, 1px);\n",
       "  height: 1px;\n",
       "  margin: -1px;\n",
       "  overflow: hidden;\n",
       "  padding: 0;\n",
       "  position: absolute;\n",
       "  width: 1px;\n",
       "}\n",
       "\n",
       "#sk-container-id-1 div.sk-dashed-wrapped {\n",
       "  border: 1px dashed var(--sklearn-color-line);\n",
       "  margin: 0 0.4em 0.5em 0.4em;\n",
       "  box-sizing: border-box;\n",
       "  padding-bottom: 0.4em;\n",
       "  background-color: var(--sklearn-color-background);\n",
       "}\n",
       "\n",
       "#sk-container-id-1 div.sk-container {\n",
       "  /* jupyter's `normalize.less` sets `[hidden] { display: none; }`\n",
       "     but bootstrap.min.css set `[hidden] { display: none !important; }`\n",
       "     so we also need the `!important` here to be able to override the\n",
       "     default hidden behavior on the sphinx rendered scikit-learn.org.\n",
       "     See: https://github.com/scikit-learn/scikit-learn/issues/21755 */\n",
       "  display: inline-block !important;\n",
       "  position: relative;\n",
       "}\n",
       "\n",
       "#sk-container-id-1 div.sk-text-repr-fallback {\n",
       "  display: none;\n",
       "}\n",
       "\n",
       "div.sk-parallel-item,\n",
       "div.sk-serial,\n",
       "div.sk-item {\n",
       "  /* draw centered vertical line to link estimators */\n",
       "  background-image: linear-gradient(var(--sklearn-color-text-on-default-background), var(--sklearn-color-text-on-default-background));\n",
       "  background-size: 2px 100%;\n",
       "  background-repeat: no-repeat;\n",
       "  background-position: center center;\n",
       "}\n",
       "\n",
       "/* Parallel-specific style estimator block */\n",
       "\n",
       "#sk-container-id-1 div.sk-parallel-item::after {\n",
       "  content: \"\";\n",
       "  width: 100%;\n",
       "  border-bottom: 2px solid var(--sklearn-color-text-on-default-background);\n",
       "  flex-grow: 1;\n",
       "}\n",
       "\n",
       "#sk-container-id-1 div.sk-parallel {\n",
       "  display: flex;\n",
       "  align-items: stretch;\n",
       "  justify-content: center;\n",
       "  background-color: var(--sklearn-color-background);\n",
       "  position: relative;\n",
       "}\n",
       "\n",
       "#sk-container-id-1 div.sk-parallel-item {\n",
       "  display: flex;\n",
       "  flex-direction: column;\n",
       "}\n",
       "\n",
       "#sk-container-id-1 div.sk-parallel-item:first-child::after {\n",
       "  align-self: flex-end;\n",
       "  width: 50%;\n",
       "}\n",
       "\n",
       "#sk-container-id-1 div.sk-parallel-item:last-child::after {\n",
       "  align-self: flex-start;\n",
       "  width: 50%;\n",
       "}\n",
       "\n",
       "#sk-container-id-1 div.sk-parallel-item:only-child::after {\n",
       "  width: 0;\n",
       "}\n",
       "\n",
       "/* Serial-specific style estimator block */\n",
       "\n",
       "#sk-container-id-1 div.sk-serial {\n",
       "  display: flex;\n",
       "  flex-direction: column;\n",
       "  align-items: center;\n",
       "  background-color: var(--sklearn-color-background);\n",
       "  padding-right: 1em;\n",
       "  padding-left: 1em;\n",
       "}\n",
       "\n",
       "\n",
       "/* Toggleable style: style used for estimator/Pipeline/ColumnTransformer box that is\n",
       "clickable and can be expanded/collapsed.\n",
       "- Pipeline and ColumnTransformer use this feature and define the default style\n",
       "- Estimators will overwrite some part of the style using the `sk-estimator` class\n",
       "*/\n",
       "\n",
       "/* Pipeline and ColumnTransformer style (default) */\n",
       "\n",
       "#sk-container-id-1 div.sk-toggleable {\n",
       "  /* Default theme specific background. It is overwritten whether we have a\n",
       "  specific estimator or a Pipeline/ColumnTransformer */\n",
       "  background-color: var(--sklearn-color-background);\n",
       "}\n",
       "\n",
       "/* Toggleable label */\n",
       "#sk-container-id-1 label.sk-toggleable__label {\n",
       "  cursor: pointer;\n",
       "  display: block;\n",
       "  width: 100%;\n",
       "  margin-bottom: 0;\n",
       "  padding: 0.5em;\n",
       "  box-sizing: border-box;\n",
       "  text-align: center;\n",
       "}\n",
       "\n",
       "#sk-container-id-1 label.sk-toggleable__label-arrow:before {\n",
       "  /* Arrow on the left of the label */\n",
       "  content: \"▸\";\n",
       "  float: left;\n",
       "  margin-right: 0.25em;\n",
       "  color: var(--sklearn-color-icon);\n",
       "}\n",
       "\n",
       "#sk-container-id-1 label.sk-toggleable__label-arrow:hover:before {\n",
       "  color: var(--sklearn-color-text);\n",
       "}\n",
       "\n",
       "/* Toggleable content - dropdown */\n",
       "\n",
       "#sk-container-id-1 div.sk-toggleable__content {\n",
       "  max-height: 0;\n",
       "  max-width: 0;\n",
       "  overflow: hidden;\n",
       "  text-align: left;\n",
       "  /* unfitted */\n",
       "  background-color: var(--sklearn-color-unfitted-level-0);\n",
       "}\n",
       "\n",
       "#sk-container-id-1 div.sk-toggleable__content.fitted {\n",
       "  /* fitted */\n",
       "  background-color: var(--sklearn-color-fitted-level-0);\n",
       "}\n",
       "\n",
       "#sk-container-id-1 div.sk-toggleable__content pre {\n",
       "  margin: 0.2em;\n",
       "  border-radius: 0.25em;\n",
       "  color: var(--sklearn-color-text);\n",
       "  /* unfitted */\n",
       "  background-color: var(--sklearn-color-unfitted-level-0);\n",
       "}\n",
       "\n",
       "#sk-container-id-1 div.sk-toggleable__content.fitted pre {\n",
       "  /* unfitted */\n",
       "  background-color: var(--sklearn-color-fitted-level-0);\n",
       "}\n",
       "\n",
       "#sk-container-id-1 input.sk-toggleable__control:checked~div.sk-toggleable__content {\n",
       "  /* Expand drop-down */\n",
       "  max-height: 200px;\n",
       "  max-width: 100%;\n",
       "  overflow: auto;\n",
       "}\n",
       "\n",
       "#sk-container-id-1 input.sk-toggleable__control:checked~label.sk-toggleable__label-arrow:before {\n",
       "  content: \"▾\";\n",
       "}\n",
       "\n",
       "/* Pipeline/ColumnTransformer-specific style */\n",
       "\n",
       "#sk-container-id-1 div.sk-label input.sk-toggleable__control:checked~label.sk-toggleable__label {\n",
       "  color: var(--sklearn-color-text);\n",
       "  background-color: var(--sklearn-color-unfitted-level-2);\n",
       "}\n",
       "\n",
       "#sk-container-id-1 div.sk-label.fitted input.sk-toggleable__control:checked~label.sk-toggleable__label {\n",
       "  background-color: var(--sklearn-color-fitted-level-2);\n",
       "}\n",
       "\n",
       "/* Estimator-specific style */\n",
       "\n",
       "/* Colorize estimator box */\n",
       "#sk-container-id-1 div.sk-estimator input.sk-toggleable__control:checked~label.sk-toggleable__label {\n",
       "  /* unfitted */\n",
       "  background-color: var(--sklearn-color-unfitted-level-2);\n",
       "}\n",
       "\n",
       "#sk-container-id-1 div.sk-estimator.fitted input.sk-toggleable__control:checked~label.sk-toggleable__label {\n",
       "  /* fitted */\n",
       "  background-color: var(--sklearn-color-fitted-level-2);\n",
       "}\n",
       "\n",
       "#sk-container-id-1 div.sk-label label.sk-toggleable__label,\n",
       "#sk-container-id-1 div.sk-label label {\n",
       "  /* The background is the default theme color */\n",
       "  color: var(--sklearn-color-text-on-default-background);\n",
       "}\n",
       "\n",
       "/* On hover, darken the color of the background */\n",
       "#sk-container-id-1 div.sk-label:hover label.sk-toggleable__label {\n",
       "  color: var(--sklearn-color-text);\n",
       "  background-color: var(--sklearn-color-unfitted-level-2);\n",
       "}\n",
       "\n",
       "/* Label box, darken color on hover, fitted */\n",
       "#sk-container-id-1 div.sk-label.fitted:hover label.sk-toggleable__label.fitted {\n",
       "  color: var(--sklearn-color-text);\n",
       "  background-color: var(--sklearn-color-fitted-level-2);\n",
       "}\n",
       "\n",
       "/* Estimator label */\n",
       "\n",
       "#sk-container-id-1 div.sk-label label {\n",
       "  font-family: monospace;\n",
       "  font-weight: bold;\n",
       "  display: inline-block;\n",
       "  line-height: 1.2em;\n",
       "}\n",
       "\n",
       "#sk-container-id-1 div.sk-label-container {\n",
       "  text-align: center;\n",
       "}\n",
       "\n",
       "/* Estimator-specific */\n",
       "#sk-container-id-1 div.sk-estimator {\n",
       "  font-family: monospace;\n",
       "  border: 1px dotted var(--sklearn-color-border-box);\n",
       "  border-radius: 0.25em;\n",
       "  box-sizing: border-box;\n",
       "  margin-bottom: 0.5em;\n",
       "  /* unfitted */\n",
       "  background-color: var(--sklearn-color-unfitted-level-0);\n",
       "}\n",
       "\n",
       "#sk-container-id-1 div.sk-estimator.fitted {\n",
       "  /* fitted */\n",
       "  background-color: var(--sklearn-color-fitted-level-0);\n",
       "}\n",
       "\n",
       "/* on hover */\n",
       "#sk-container-id-1 div.sk-estimator:hover {\n",
       "  /* unfitted */\n",
       "  background-color: var(--sklearn-color-unfitted-level-2);\n",
       "}\n",
       "\n",
       "#sk-container-id-1 div.sk-estimator.fitted:hover {\n",
       "  /* fitted */\n",
       "  background-color: var(--sklearn-color-fitted-level-2);\n",
       "}\n",
       "\n",
       "/* Specification for estimator info (e.g. \"i\" and \"?\") */\n",
       "\n",
       "/* Common style for \"i\" and \"?\" */\n",
       "\n",
       ".sk-estimator-doc-link,\n",
       "a:link.sk-estimator-doc-link,\n",
       "a:visited.sk-estimator-doc-link {\n",
       "  float: right;\n",
       "  font-size: smaller;\n",
       "  line-height: 1em;\n",
       "  font-family: monospace;\n",
       "  background-color: var(--sklearn-color-background);\n",
       "  border-radius: 1em;\n",
       "  height: 1em;\n",
       "  width: 1em;\n",
       "  text-decoration: none !important;\n",
       "  margin-left: 1ex;\n",
       "  /* unfitted */\n",
       "  border: var(--sklearn-color-unfitted-level-1) 1pt solid;\n",
       "  color: var(--sklearn-color-unfitted-level-1);\n",
       "}\n",
       "\n",
       ".sk-estimator-doc-link.fitted,\n",
       "a:link.sk-estimator-doc-link.fitted,\n",
       "a:visited.sk-estimator-doc-link.fitted {\n",
       "  /* fitted */\n",
       "  border: var(--sklearn-color-fitted-level-1) 1pt solid;\n",
       "  color: var(--sklearn-color-fitted-level-1);\n",
       "}\n",
       "\n",
       "/* On hover */\n",
       "div.sk-estimator:hover .sk-estimator-doc-link:hover,\n",
       ".sk-estimator-doc-link:hover,\n",
       "div.sk-label-container:hover .sk-estimator-doc-link:hover,\n",
       ".sk-estimator-doc-link:hover {\n",
       "  /* unfitted */\n",
       "  background-color: var(--sklearn-color-unfitted-level-3);\n",
       "  color: var(--sklearn-color-background);\n",
       "  text-decoration: none;\n",
       "}\n",
       "\n",
       "div.sk-estimator.fitted:hover .sk-estimator-doc-link.fitted:hover,\n",
       ".sk-estimator-doc-link.fitted:hover,\n",
       "div.sk-label-container:hover .sk-estimator-doc-link.fitted:hover,\n",
       ".sk-estimator-doc-link.fitted:hover {\n",
       "  /* fitted */\n",
       "  background-color: var(--sklearn-color-fitted-level-3);\n",
       "  color: var(--sklearn-color-background);\n",
       "  text-decoration: none;\n",
       "}\n",
       "\n",
       "/* Span, style for the box shown on hovering the info icon */\n",
       ".sk-estimator-doc-link span {\n",
       "  display: none;\n",
       "  z-index: 9999;\n",
       "  position: relative;\n",
       "  font-weight: normal;\n",
       "  right: .2ex;\n",
       "  padding: .5ex;\n",
       "  margin: .5ex;\n",
       "  width: min-content;\n",
       "  min-width: 20ex;\n",
       "  max-width: 50ex;\n",
       "  color: var(--sklearn-color-text);\n",
       "  box-shadow: 2pt 2pt 4pt #999;\n",
       "  /* unfitted */\n",
       "  background: var(--sklearn-color-unfitted-level-0);\n",
       "  border: .5pt solid var(--sklearn-color-unfitted-level-3);\n",
       "}\n",
       "\n",
       ".sk-estimator-doc-link.fitted span {\n",
       "  /* fitted */\n",
       "  background: var(--sklearn-color-fitted-level-0);\n",
       "  border: var(--sklearn-color-fitted-level-3);\n",
       "}\n",
       "\n",
       ".sk-estimator-doc-link:hover span {\n",
       "  display: block;\n",
       "}\n",
       "\n",
       "/* \"?\"-specific style due to the `<a>` HTML tag */\n",
       "\n",
       "#sk-container-id-1 a.estimator_doc_link {\n",
       "  float: right;\n",
       "  font-size: 1rem;\n",
       "  line-height: 1em;\n",
       "  font-family: monospace;\n",
       "  background-color: var(--sklearn-color-background);\n",
       "  border-radius: 1rem;\n",
       "  height: 1rem;\n",
       "  width: 1rem;\n",
       "  text-decoration: none;\n",
       "  /* unfitted */\n",
       "  color: var(--sklearn-color-unfitted-level-1);\n",
       "  border: var(--sklearn-color-unfitted-level-1) 1pt solid;\n",
       "}\n",
       "\n",
       "#sk-container-id-1 a.estimator_doc_link.fitted {\n",
       "  /* fitted */\n",
       "  border: var(--sklearn-color-fitted-level-1) 1pt solid;\n",
       "  color: var(--sklearn-color-fitted-level-1);\n",
       "}\n",
       "\n",
       "/* On hover */\n",
       "#sk-container-id-1 a.estimator_doc_link:hover {\n",
       "  /* unfitted */\n",
       "  background-color: var(--sklearn-color-unfitted-level-3);\n",
       "  color: var(--sklearn-color-background);\n",
       "  text-decoration: none;\n",
       "}\n",
       "\n",
       "#sk-container-id-1 a.estimator_doc_link.fitted:hover {\n",
       "  /* fitted */\n",
       "  background-color: var(--sklearn-color-fitted-level-3);\n",
       "}\n",
       "</style><div id=\"sk-container-id-1\" class=\"sk-top-container\"><div class=\"sk-text-repr-fallback\"><pre>RandomForestRegressor(random_state=0)</pre><b>In a Jupyter environment, please rerun this cell to show the HTML representation or trust the notebook. <br />On GitHub, the HTML representation is unable to render, please try loading this page with nbviewer.org.</b></div><div class=\"sk-container\" hidden><div class=\"sk-item\"><div class=\"sk-estimator fitted sk-toggleable\"><input class=\"sk-toggleable__control sk-hidden--visually\" id=\"sk-estimator-id-1\" type=\"checkbox\" checked><label for=\"sk-estimator-id-1\" class=\"sk-toggleable__label fitted sk-toggleable__label-arrow fitted\">&nbsp;&nbsp;RandomForestRegressor<a class=\"sk-estimator-doc-link fitted\" rel=\"noreferrer\" target=\"_blank\" href=\"https://scikit-learn.org/1.5/modules/generated/sklearn.ensemble.RandomForestRegressor.html\">?<span>Documentation for RandomForestRegressor</span></a><span class=\"sk-estimator-doc-link fitted\">i<span>Fitted</span></span></label><div class=\"sk-toggleable__content fitted\"><pre>RandomForestRegressor(random_state=0)</pre></div> </div></div></div></div>"
      ],
      "text/plain": [
       "RandomForestRegressor(random_state=0)"
      ]
     },
     "execution_count": 26,
     "metadata": {},
     "output_type": "execute_result"
    }
   ],
   "source": [
    "model.fit(X_train_no_cat, Y_train)"
   ]
  },
  {
   "cell_type": "markdown",
   "metadata": {},
   "source": [
    "### In-Sample Predictions\n",
    "\n",
    "After training the model, we can use it to make predictions on the training data. When we predict using the training dataset, it’s called in-sample prediction. This is because we are using the same data the model has already seen during training. It helps us assess how well the model has learned. For example, here’s how we make predictions on the training data using the `predict()` function:\n"
   ]
  },
  {
   "cell_type": "code",
   "execution_count": 27,
   "metadata": {},
   "outputs": [],
   "source": [
    "in_sample_prediction = model.predict(X_train_no_cat)"
   ]
  },
  {
   "cell_type": "markdown",
   "metadata": {},
   "source": [
    "The next step is to assess the model’s performance by calculating its error using mean absolute error (MAE) and mean absolute percentage error (MAPE). These metrics help us understand how far off our predictions are from the true values:"
   ]
  },
  {
   "cell_type": "markdown",
   "metadata": {},
   "source": [
    "#### Mean Absolute Error (MAE)\n",
    "The Mean Absolute Error (MAE) measures the average magnitude of the errors between the predicted and actual values. It calculates the absolute difference between each predicted value ($\\hat{y}_i$) and the true value ($y_i$), then averages these differences across all data points. The formula for MAE is:\n",
    "\n",
    "$$\n",
    "MAE = \\frac{1}{n} \\sum_{i=1}^{n} |y_i - \\hat{y}_i|\n",
    "$$\n",
    "\n",
    "Where:\n",
    "- $n$ is the number of data points,\n",
    "- $y_i$ is the true value,\n",
    "- $\\hat{y}_i$ is the predicted value.\n",
    "\n",
    "This metric is useful when you want to know the average prediction error in the same units as the target variable.\n",
    "\n",
    "#### Mean Absolute Percentage Error (MAPE)\n",
    "The Mean Absolute Percentage Error (MAPE) is similar to MAE, but instead of using the absolute difference, it uses the relative difference expressed as a percentage. This metric shows how large the error is relative to the actual value. The formula for MAPE is:\n",
    "\n",
    "$$\n",
    "MAPE = \\frac{1}{n} \\sum_{i=1}^{n} \\left| \\frac{y_i - \\hat{y}_i}{y_i} \\right| \\times 100\n",
    "$$\n",
    "\n",
    "Where:\n",
    "- $n$ is the number of data points,\n",
    "- $y_i$ is the true value,\n",
    "- $\\hat{y}_i$ is the predicted value.\n",
    "\n",
    "MAPE is helpful for understanding the error in percentage terms, making it easier to compare model performance across datasets with different scales. However, it can be biased if the actual values ($y_i$) are very small, leading to very high error percentages.\n",
    "\n"
   ]
  },
  {
   "cell_type": "markdown",
   "metadata": {},
   "source": [
    "Now, let's calculate these metrics. `sklearn` provides these metrics as built-in functions `mean_absolute_error` (MAE) and `mean_absolute_percentage_error` (MAPE):"
   ]
  },
  {
   "cell_type": "code",
   "execution_count": 28,
   "metadata": {},
   "outputs": [],
   "source": [
    "from sklearn.metrics import mean_absolute_error, mean_absolute_percentage_error"
   ]
  },
  {
   "cell_type": "markdown",
   "metadata": {},
   "source": [
    "To calculate the scores, we have to hand over the true values and the predicted values to the functions:"
   ]
  },
  {
   "cell_type": "code",
   "execution_count": 29,
   "metadata": {
    "nbgrader": {
     "grade": true,
     "grade_id": "cell-28fd75c116776a47",
     "locked": true,
     "points": 2,
     "schema_version": 3,
     "solution": false,
     "task": false
    }
   },
   "outputs": [
    {
     "name": "stdout",
     "output_type": "stream",
     "text": [
      "Mean Absolute Error: 312757.81\t Mean Absolute Percentage Error: 0.07\n"
     ]
    }
   ],
   "source": [
    "mae = mean_absolute_error(Y_train, in_sample_prediction)\n",
    "mape = mean_absolute_percentage_error(Y_train, in_sample_prediction)\n",
    "print(f\"Mean Absolute Error: {mae:.2f}\\t Mean Absolute Percentage Error: {mape:.2f}\")"
   ]
  },
  {
   "cell_type": "markdown",
   "metadata": {},
   "source": [
    "### Evaluating the Test Data: Out-of-Sample Predictions"
   ]
  },
  {
   "cell_type": "markdown",
   "metadata": {},
   "source": [
    "Next, we want to test the model's performance on new, unseen data (called out-of-sample data). This is crucial because a model might perform well on the training data (in-sample), but we want to know how it does with data it hasn’t encountered before.\n",
    "\n",
    "To evaluate the model on the test data (`X_test`), we must preprocess it in the same way as the training data. This includes imputing missing values, scaling features, and encoding categorical variables, but this time using the `transform()` method, not `fit_transform()`. We use `transform()` because we don’t want to fit new scalers or imputers to the test data, which would introduce bias. Fitting the scaler or imputer to the test data would mean that the model has already had access to information from the test set, which could lead to overly optimistic results and an unfair evaluation of the model’s performance. This ensures that the model is evaluated in a more realistic scenario, where it has never seen the test data during training."
   ]
  },
  {
   "cell_type": "code",
   "execution_count": 30,
   "metadata": {
    "nbgrader": {
     "grade": true,
     "grade_id": "cell-bb61de198a391296",
     "locked": true,
     "points": 1,
     "schema_version": 3,
     "solution": false,
     "task": false
    }
   },
   "outputs": [],
   "source": [
    "numeric_imputed_values =  pd.DataFrame(\n",
    "    numerical_imputer.transform(X_test[[\"area\"]]),index=X_test.index, columns=[\"area\"]\n",
    ")\n",
    "categorical_imputed_values = pd.DataFrame(categorical_imputer.transform(X_test[[\"furnishingstatus\"]]),index=X_test.index,columns=[\"furnishingstatus\"])\n",
    "X_test[\"area\"] = numeric_imputed_values\n",
    "X_test[\"furnishingstatus\"] = categorical_imputed_values\n",
    "# also need to scale the values\n",
    "X_test[numerical_columns] = scaled_values"
   ]
  },
  {
   "cell_type": "markdown",
   "metadata": {},
   "source": [
    "We then apply the same transformations to scale the data and encode the categorical features. After processing the test data, we combine it with the original dataset to prepare it for prediction:"
   ]
  },
  {
   "cell_type": "code",
   "execution_count": 31,
   "metadata": {},
   "outputs": [
    {
     "data": {
      "text/html": [
       "<div>\n",
       "<style scoped>\n",
       "    .dataframe tbody tr th:only-of-type {\n",
       "        vertical-align: middle;\n",
       "    }\n",
       "\n",
       "    .dataframe tbody tr th {\n",
       "        vertical-align: top;\n",
       "    }\n",
       "\n",
       "    .dataframe thead th {\n",
       "        text-align: right;\n",
       "    }\n",
       "</style>\n",
       "<table border=\"1\" class=\"dataframe\">\n",
       "  <thead>\n",
       "    <tr style=\"text-align: right;\">\n",
       "      <th></th>\n",
       "      <th>area</th>\n",
       "      <th>bedrooms</th>\n",
       "      <th>bathrooms</th>\n",
       "      <th>stories</th>\n",
       "      <th>parking</th>\n",
       "      <th>mainroad_no</th>\n",
       "      <th>mainroad_yes</th>\n",
       "      <th>guestroom_no</th>\n",
       "      <th>guestroom_yes</th>\n",
       "      <th>basement_no</th>\n",
       "      <th>basement_yes</th>\n",
       "      <th>hotwaterheating_no</th>\n",
       "      <th>hotwaterheating_yes</th>\n",
       "      <th>airconditioning_no</th>\n",
       "      <th>airconditioning_yes</th>\n",
       "      <th>prefarea_no</th>\n",
       "      <th>prefarea_yes</th>\n",
       "      <th>furnishingstatus_furnished</th>\n",
       "      <th>furnishingstatus_semi-furnished</th>\n",
       "      <th>furnishingstatus_unfurnished</th>\n",
       "    </tr>\n",
       "  </thead>\n",
       "  <tbody>\n",
       "    <tr>\n",
       "      <th>239</th>\n",
       "      <td>NaN</td>\n",
       "      <td>NaN</td>\n",
       "      <td>NaN</td>\n",
       "      <td>NaN</td>\n",
       "      <td>NaN</td>\n",
       "      <td>0.0</td>\n",
       "      <td>1.0</td>\n",
       "      <td>1.0</td>\n",
       "      <td>0.0</td>\n",
       "      <td>1.0</td>\n",
       "      <td>0.0</td>\n",
       "      <td>1.0</td>\n",
       "      <td>0.0</td>\n",
       "      <td>1.0</td>\n",
       "      <td>0.0</td>\n",
       "      <td>1.0</td>\n",
       "      <td>0.0</td>\n",
       "      <td>1.0</td>\n",
       "      <td>0.0</td>\n",
       "      <td>0.0</td>\n",
       "    </tr>\n",
       "    <tr>\n",
       "      <th>113</th>\n",
       "      <td>NaN</td>\n",
       "      <td>NaN</td>\n",
       "      <td>NaN</td>\n",
       "      <td>NaN</td>\n",
       "      <td>NaN</td>\n",
       "      <td>0.0</td>\n",
       "      <td>1.0</td>\n",
       "      <td>1.0</td>\n",
       "      <td>0.0</td>\n",
       "      <td>0.0</td>\n",
       "      <td>1.0</td>\n",
       "      <td>1.0</td>\n",
       "      <td>0.0</td>\n",
       "      <td>1.0</td>\n",
       "      <td>0.0</td>\n",
       "      <td>0.0</td>\n",
       "      <td>1.0</td>\n",
       "      <td>1.0</td>\n",
       "      <td>0.0</td>\n",
       "      <td>0.0</td>\n",
       "    </tr>\n",
       "    <tr>\n",
       "      <th>325</th>\n",
       "      <td>NaN</td>\n",
       "      <td>NaN</td>\n",
       "      <td>NaN</td>\n",
       "      <td>NaN</td>\n",
       "      <td>NaN</td>\n",
       "      <td>0.0</td>\n",
       "      <td>1.0</td>\n",
       "      <td>1.0</td>\n",
       "      <td>0.0</td>\n",
       "      <td>1.0</td>\n",
       "      <td>0.0</td>\n",
       "      <td>1.0</td>\n",
       "      <td>0.0</td>\n",
       "      <td>0.0</td>\n",
       "      <td>1.0</td>\n",
       "      <td>1.0</td>\n",
       "      <td>0.0</td>\n",
       "      <td>0.0</td>\n",
       "      <td>1.0</td>\n",
       "      <td>0.0</td>\n",
       "    </tr>\n",
       "    <tr>\n",
       "      <th>66</th>\n",
       "      <td>NaN</td>\n",
       "      <td>NaN</td>\n",
       "      <td>NaN</td>\n",
       "      <td>NaN</td>\n",
       "      <td>NaN</td>\n",
       "      <td>0.0</td>\n",
       "      <td>1.0</td>\n",
       "      <td>1.0</td>\n",
       "      <td>0.0</td>\n",
       "      <td>0.0</td>\n",
       "      <td>1.0</td>\n",
       "      <td>0.0</td>\n",
       "      <td>1.0</td>\n",
       "      <td>1.0</td>\n",
       "      <td>0.0</td>\n",
       "      <td>1.0</td>\n",
       "      <td>0.0</td>\n",
       "      <td>1.0</td>\n",
       "      <td>0.0</td>\n",
       "      <td>0.0</td>\n",
       "    </tr>\n",
       "    <tr>\n",
       "      <th>479</th>\n",
       "      <td>NaN</td>\n",
       "      <td>NaN</td>\n",
       "      <td>NaN</td>\n",
       "      <td>NaN</td>\n",
       "      <td>NaN</td>\n",
       "      <td>1.0</td>\n",
       "      <td>0.0</td>\n",
       "      <td>1.0</td>\n",
       "      <td>0.0</td>\n",
       "      <td>1.0</td>\n",
       "      <td>0.0</td>\n",
       "      <td>1.0</td>\n",
       "      <td>0.0</td>\n",
       "      <td>1.0</td>\n",
       "      <td>0.0</td>\n",
       "      <td>1.0</td>\n",
       "      <td>0.0</td>\n",
       "      <td>0.0</td>\n",
       "      <td>0.0</td>\n",
       "      <td>1.0</td>\n",
       "    </tr>\n",
       "  </tbody>\n",
       "</table>\n",
       "</div>"
      ],
      "text/plain": [
       "     area  bedrooms  bathrooms  stories  parking  mainroad_no  mainroad_yes  \\\n",
       "239   NaN       NaN        NaN      NaN      NaN          0.0           1.0   \n",
       "113   NaN       NaN        NaN      NaN      NaN          0.0           1.0   \n",
       "325   NaN       NaN        NaN      NaN      NaN          0.0           1.0   \n",
       "66    NaN       NaN        NaN      NaN      NaN          0.0           1.0   \n",
       "479   NaN       NaN        NaN      NaN      NaN          1.0           0.0   \n",
       "\n",
       "     guestroom_no  guestroom_yes  basement_no  basement_yes  \\\n",
       "239           1.0            0.0          1.0           0.0   \n",
       "113           1.0            0.0          0.0           1.0   \n",
       "325           1.0            0.0          1.0           0.0   \n",
       "66            1.0            0.0          0.0           1.0   \n",
       "479           1.0            0.0          1.0           0.0   \n",
       "\n",
       "     hotwaterheating_no  hotwaterheating_yes  airconditioning_no  \\\n",
       "239                 1.0                  0.0                 1.0   \n",
       "113                 1.0                  0.0                 1.0   \n",
       "325                 1.0                  0.0                 0.0   \n",
       "66                  0.0                  1.0                 1.0   \n",
       "479                 1.0                  0.0                 1.0   \n",
       "\n",
       "     airconditioning_yes  prefarea_no  prefarea_yes  \\\n",
       "239                  0.0          1.0           0.0   \n",
       "113                  0.0          0.0           1.0   \n",
       "325                  1.0          1.0           0.0   \n",
       "66                   0.0          1.0           0.0   \n",
       "479                  0.0          1.0           0.0   \n",
       "\n",
       "     furnishingstatus_furnished  furnishingstatus_semi-furnished  \\\n",
       "239                         1.0                              0.0   \n",
       "113                         1.0                              0.0   \n",
       "325                         0.0                              1.0   \n",
       "66                          1.0                              0.0   \n",
       "479                         0.0                              0.0   \n",
       "\n",
       "     furnishingstatus_unfurnished  \n",
       "239                           0.0  \n",
       "113                           0.0  \n",
       "325                           0.0  \n",
       "66                            0.0  \n",
       "479                           1.0  "
      ]
     },
     "execution_count": 31,
     "metadata": {},
     "output_type": "execute_result"
    }
   ],
   "source": [
    "encoded_values = pd.DataFrame(one_hot_encoder.transform(X_test[categorical_columns]),index=X_test.index,columns=one_hot_encoder.get_feature_names_out())\n",
    "X_test_no_cat = X_test.drop(categorical_columns, axis=1)\n",
    "# Concatenate the X_test dataFrame with the encoded values column-wise\n",
    "X_test_no_cat = pd.concat([X_test_no_cat,encoded_values],axis=1) \n",
    "X_test_no_cat.head()"
   ]
  },
  {
   "cell_type": "markdown",
   "metadata": {},
   "source": [
    "Now, with the test data ready, we use our trained model to predict house prices on the test set:"
   ]
  },
  {
   "cell_type": "code",
   "execution_count": 32,
   "metadata": {
    "nbgrader": {
     "grade": true,
     "grade_id": "cell-c8a1d93397184f4e",
     "locked": true,
     "points": 0,
     "schema_version": 3,
     "solution": false,
     "task": false
    }
   },
   "outputs": [
    {
     "name": "stdout",
     "output_type": "stream",
     "text": [
      "Mean Absolute Error: 1134348.56\t Mean Absolute Percentage Error: 0.23\n"
     ]
    }
   ],
   "source": [
    "predictions = model.predict(X_test_no_cat)\n",
    "mape_oos = mean_absolute_percentage_error(Y_test, predictions) \n",
    "mae_oos = mean_absolute_error(Y_test, predictions) \n",
    "print(f\"Mean Absolute Error: {mae_oos:.2f}\\t Mean Absolute Percentage Error: {mape_oos:.2f}\")"
   ]
  },
  {
   "cell_type": "markdown",
   "metadata": {},
   "source": [
    "You may notice that the error on the test set is usually higher than the error on the training set. This is normal because the model hasn’t seen the test data before, and it’s a sign that the model is generalizing well. It’s always a good idea to measure a model’s performance on data it hasn’t been trained on—this gives us a realistic estimate of how it will perform in real-world scenarios.\n"
   ]
  },
  {
   "cell_type": "markdown",
   "metadata": {},
   "source": [
    "## 8. Conclusion"
   ]
  },
  {
   "cell_type": "markdown",
   "metadata": {},
   "source": [
    "Through this tutorial, we’ve learned how to preprocess data, train a machine learning model, and evaluate its performance. By working with a Random Forest Regressor, we created a model that learns from patterns in data and makes predictions. We also saw the importance of evaluating the model on both the training data (in-sample) and new, unseen data (out-of-sample) to ensure that the model is reliable. \n",
    "\n",
    "By following the steps outlined here, you now have the tools to build, evaluate, and refine machine-learning models. This process of data preprocessing, model training, and evaluation is fundamental in any machine learning project.\n",
    "\n",
    "Assignment 1 will be released next week, and the concepts you've learned here will be really helpful as you tackle it. In the meantime, keep practicing, and happy coding!"
   ]
  }
 ],
 "metadata": {
  "kernelspec": {
   "display_name": "Python 3 (ipykernel)",
   "language": "python",
   "name": "python3"
  },
  "language_info": {
   "codemirror_mode": {
    "name": "ipython",
    "version": 3
   },
   "file_extension": ".py",
   "mimetype": "text/x-python",
   "name": "python",
   "nbconvert_exporter": "python",
   "pygments_lexer": "ipython3",
   "version": "3.10.15"
  }
 },
 "nbformat": 4,
 "nbformat_minor": 4
}
